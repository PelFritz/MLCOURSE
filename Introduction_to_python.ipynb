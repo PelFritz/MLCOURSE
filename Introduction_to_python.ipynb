{
  "nbformat": 4,
  "nbformat_minor": 0,
  "metadata": {
    "colab": {
      "name": "Introduction_to_python.ipynb",
      "provenance": [],
      "authorship_tag": "ABX9TyNwrgLv6ebkTdeXs1WN/ZPD",
      "include_colab_link": true
    },
    "kernelspec": {
      "name": "python3",
      "display_name": "Python 3"
    },
    "language_info": {
      "name": "python"
    }
  },
  "cells": [
    {
      "cell_type": "markdown",
      "metadata": {
        "id": "view-in-github",
        "colab_type": "text"
      },
      "source": [
        "<a href=\"https://colab.research.google.com/github/PelFritz/MLCOURSE/blob/master/Introduction_to_python.ipynb\" target=\"_parent\"><img src=\"https://colab.research.google.com/assets/colab-badge.svg\" alt=\"Open In Colab\"/></a>"
      ]
    },
    {
      "cell_type": "markdown",
      "source": [
        "## <font color=\"green\"> **INTRODUCTION TO PYHTON** </font>\n",
        "\n",
        "In this short notebook we will give a short crash course into programming with\n",
        "python which shuld serve as an introduction for those new to programming in\n",
        "general and an introduction to python for those already having some programming\n",
        "knowledge from other languages.\n",
        "\n",
        "<font color=\"orange\"> **Table of content** </font>\n",
        "---\n",
        "\n",
        "\n",
        "\n",
        "1. Variables and Data types\n",
        "2. Functions\n",
        "3. Condtional statements\n",
        "4. Loops\n"
      ],
      "metadata": {
        "id": "VcakTCRu8nAd"
      }
    },
    {
      "cell_type": "code",
      "source": [
        "class color:\n",
        "   PURPLE = '\\033[95m'\n",
        "   CYAN = '\\033[96m'\n",
        "   DARKCYAN = '\\033[36m'\n",
        "   BLUE = '\\033[94m'\n",
        "   GREEN = '\\033[92m'\n",
        "   YELLOW = '\\033[93m'\n",
        "   RED = '\\033[91m'\n",
        "   BOLD = '\\033[1m'\n",
        "   UNDERLINE = '\\033[4m'\n",
        "   END = '\\033[0m'\n"
      ],
      "metadata": {
        "id": "0FCcbtpM_Jvr"
      },
      "execution_count": null,
      "outputs": []
    },
    {
      "cell_type": "markdown",
      "source": [
        "Variables are used to temporally store data in a computers memory. This means when we short down our computers every variable created gets wiped away from the\n",
        "computers memory. Each variables create has a specific data type. A variable placed between double quotes ( <font color=\"yellow\">**\" \"**</font> ) is a <font color=\"yellow\">**string**</font>, Intergers have data types <font color=\"yellow\">**int**</font>, decimals <font color=\"yellow\">**float**</font>\n",
        "and variables that can be True/False called <font color=\"yellow\">**booleans**</font>.\n",
        "\n",
        "To define a variable is as simple giving a variable name of your choice followed by an equal to sign then the value for the variabl. Below we define \n",
        "three variables of the different types."
      ],
      "metadata": {
        "id": "P9HYMNngCRVQ"
      }
    },
    {
      "cell_type": "code",
      "execution_count": null,
      "metadata": {
        "id": "dgR9wVQr8LNp",
        "colab": {
          "base_uri": "https://localhost:8080/"
        },
        "outputId": "a8cde121-130d-4e5b-cf55-ede635f6a013"
      },
      "outputs": [
        {
          "output_type": "stream",
          "name": "stdout",
          "text": [
            "\u001b[4m\u001b[93m\u001b[1mVARIABLES AND DATATYPES\u001b[0m\n",
            "Arabidopsis thaliana\n",
            "5\n",
            "2.5\n"
          ]
        }
      ],
      "source": [
        "# HEY !!! IF YOU SEE ME KNOW I AM A COMMENT. HOW? WELL BECAUSE I START WITH # :)\n",
        "# Comments are used by programmers to leave behind notes for future references\n",
        "\n",
        "print(color.UNDERLINE + color.YELLOW + color.BOLD + 'VARIABLES AND DATATYPES' + color.END)\n",
        "\n",
        "species = \"Arabidopsis thaliana\"\n",
        "number_of_chromosomes = 5\n",
        "plant_height = 2.5\n",
        "\n",
        "print(species)\n",
        "print(number_of_chromosomes)\n",
        "print(plant_height)"
      ]
    },
    {
      "cell_type": "code",
      "source": [
        "number_of_times = 0\n",
        "while number_of_times<2:\n",
        "  input(\"Name: \")\n",
        "  input(\"My favourite plant is: \")\n",
        "  number_of_times += 1"
      ],
      "metadata": {
        "colab": {
          "base_uri": "https://localhost:8080/"
        },
        "id": "qaWXcU1tFaao",
        "outputId": "2b3fd67d-1de8-4fc2-f690-0540889236a5"
      },
      "execution_count": null,
      "outputs": [
        {
          "name": "stdout",
          "output_type": "stream",
          "text": [
            "Name: Fritz\n",
            "My favourite plant is: Solanum lycopersicum\n",
            "Name: Fritz\n",
            "My favourite plant is: Arabidopsis thaliana\n"
          ]
        }
      ]
    },
    {
      "cell_type": "markdown",
      "source": [
        "Above we just used a built-in function called <font color=\"yellow\">**input**</font>. A function is a group of code directed towards doing a specific task. Python comes with built in functions such as the input function, a method to capitalise text, or make text upper or lowercase. We can also define our own functions. We create our own functions with the <font color=\"yellow\">**def**</font> statement."
      ],
      "metadata": {
        "id": "Ba2PQlm-HTGy"
      }
    },
    {
      "cell_type": "code",
      "source": [
        "print(color.UNDERLINE + color.YELLOW + color.BOLD + 'FUNCTIONS' + color.END)\n",
        "institute = \"leibniz institute gatersleben\"\n",
        "print(institute.capitalize())\n",
        "print(institute.upper())\n",
        "print(institute.title())\n",
        "\n",
        "# Next let us create our own functions\n",
        "def add_numbers(x, y):\n",
        "  print(x+y)\n",
        "\n",
        "def subtract_numbers(x, y):\n",
        "  print(x - y)\n",
        "\n",
        "add_numbers(50, 25)\n",
        "subtract_numbers(50, 25)"
      ],
      "metadata": {
        "colab": {
          "base_uri": "https://localhost:8080/"
        },
        "id": "zEN_NCjXIIv6",
        "outputId": "4266c980-608b-4308-c192-6ad23bf0ffef"
      },
      "execution_count": null,
      "outputs": [
        {
          "output_type": "stream",
          "name": "stdout",
          "text": [
            "\u001b[4m\u001b[93m\u001b[1mFUNCTIONS\u001b[0m\n",
            "Leibniz institute gatersleben\n",
            "LEIBNIZ INSTITUTE GATERSLEBEN\n",
            "Leibniz Institute Gatersleben\n",
            "75\n",
            "25\n"
          ]
        }
      ]
    },
    {
      "cell_type": "markdown",
      "source": [
        "Conditional statements are control statements. The help automate a lot of stuff for us. Python has three conditional statements: <font color=\"yellow\">**if**, **elif**</font> and <font color=\"yellow\">**else**</font>. If is the most basic of these statements and is always the first control statement used. if you want to check for additional conditions the you use elif for every additional check. Lets try it out below"
      ],
      "metadata": {
        "id": "6IbU9FA8J-9V"
      }
    },
    {
      "cell_type": "code",
      "source": [
        "print(color.UNDERLINE + color.YELLOW + color.BOLD + 'CONDITIONALS' + color.END)\n",
        "departement = \"Molecular genetics\"\n",
        "if departement == \"Molecular genetics\":\n",
        "  print(True)\n",
        "\n",
        "# Using if with elif and our input functions\n",
        "plants = ['Solanum lycopersicum', 'Solanum penelli', 'Solanum pimpinelifollium']\n",
        "if input() in plants:\n",
        "  print('It is a tomato')\n",
        "else:\n",
        "  print('I have no idea what that is')"
      ],
      "metadata": {
        "colab": {
          "base_uri": "https://localhost:8080/"
        },
        "id": "BnjUpMMVJ-eq",
        "outputId": "2524658b-dfb7-4bd9-b38c-a02e32828a37"
      },
      "execution_count": null,
      "outputs": [
        {
          "output_type": "stream",
          "name": "stdout",
          "text": [
            "\u001b[4m\u001b[93m\u001b[1mCONDITIONALS\u001b[0m\n",
            "True\n",
            "Arabidopsis \n",
            "I have no idea what that is\n"
          ]
        }
      ]
    },
    {
      "cell_type": "markdown",
      "source": [
        "Loops are my favorite !!! They are used to iterate over stuffs in programming. If you have something that needs to be done repeatedly, loops can make your life easier. But becareful because when used wrongly the can slow your code terribly. There are two kinds of loops in python: <font color=\"yellow\">**while**</font> (very dangerous !!!!) and <font color=\"yellow\">**for**</font> (very freindly !!!).\n",
        "\n",
        "<font color=\"red\">**If you use the while loop wrongly your code can just keep iterating till you probably grow old that is if your computer still lives.**</font>\n"
      ],
      "metadata": {
        "id": "vkGDR0JyNxMo"
      }
    },
    {
      "cell_type": "code",
      "source": [
        "print(color.UNDERLINE + color.YELLOW + color.BOLD + 'LOOPS' + color.END)\n",
        "# Above, I created something called a list. A list is simply elements grouped together.\n",
        "# We mostly create list with [ ] and lists are oredered hence we can index elements from them\n",
        "for tomato_type in plants:\n",
        "  print(tomato_type)\n",
        "\n",
        "for number in range(1, 10):\n",
        "  if number%2 == 0: # Take note of the operator %\n",
        "    print(number)"
      ],
      "metadata": {
        "colab": {
          "base_uri": "https://localhost:8080/"
        },
        "id": "H4wjQc-rPFkN",
        "outputId": "66d2dfcf-3ba4-4ba0-9f8f-092955f2b89e"
      },
      "execution_count": null,
      "outputs": [
        {
          "output_type": "stream",
          "name": "stdout",
          "text": [
            "\u001b[4m\u001b[93m\u001b[1mLOOPS\u001b[0m\n",
            "Solanum lycopersicum\n",
            "Solanum penelli\n",
            "Solanum pimpinelifollium\n",
            "2\n",
            "4\n",
            "6\n",
            "8\n"
          ]
        }
      ]
    },
    {
      "cell_type": "markdown",
      "source": [
        "That was a really fast rush just to give you a taste of how nice python is. For a deeper crash course please watch this video [Python in one hour](https://www.youtube.com/watch?v=kqtD5dpn9C8).\n",
        "\n",
        "<font color=\"green\">**CHEERS !!!**</font>"
      ],
      "metadata": {
        "id": "G1Av3wpNQU8R"
      }
    }
  ]
}